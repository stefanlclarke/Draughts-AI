{
 "cells": [
  {
   "cell_type": "code",
   "execution_count": 13,
   "metadata": {},
   "outputs": [
    {
     "name": "stdout",
     "output_type": "stream",
     "text": [
      "The autoreload extension is already loaded. To reload it, use:\n",
      "  %reload_ext autoreload\n"
     ]
    }
   ],
   "source": [
    "import gym\n",
    "import gym_draughts\n",
    "import pygame\n",
    "import numpy as np\n",
    "%load_ext autoreload\n",
    "%autoreload 1\n"
   ]
  },
  {
   "cell_type": "code",
   "execution_count": 4,
   "metadata": {},
   "outputs": [],
   "source": [
    "import draught_surf as dSurf\n",
    "%aimport draught_surf "
   ]
  },
  {
   "cell_type": "code",
   "execution_count": 49,
   "metadata": {},
   "outputs": [],
   "source": [
    "\n",
    "\n",
    "\n",
    "class GameDisplayer():\n",
    "    def __init__(self,  screen_size, board_size, game_to_disp):\n",
    "        self.board_size = board_size\n",
    "        self.screen_size = screen_size\n",
    "        self.game_to_disp = game_to_disp\n",
    "        \n",
    "        self.game_visualise = dSurf.DraughtVisualiser(screen_size , board_size)\n",
    "        self.game_visualise.draw_from_grid(game_to_disp[0])\n",
    "        \n",
    "        self.done = False\n",
    "\n",
    "        \n",
    "    def show_stuff(self):\n",
    "        pygame.init()\n",
    "        \n",
    "        self.main_surf = pygame.display.set_mode((self.screen_size + 200,self.screen_size))\n",
    "        \n",
    "        pygame.display.set_caption(\"Test!\")\n",
    "        pygame.display.update()\n",
    "        \n",
    "        self.font_render = pygame.font.SysFont(None, 24)\n",
    "        \n",
    "        img = self.font_render.render('hello', True, \"blue\")\n",
    "        \n",
    "        \n",
    "        \n",
    "        \n",
    "        self.main_surf.blit(img, (20, 20))\n",
    "        \n",
    "        pygame.display.update()\n",
    "        \n",
    "    \n",
    "        \n",
    "        while not done:\n",
    "            self.run_through_events()          \n",
    "        self.quit()\n",
    "        \n",
    "    def run_through_events(self):\n",
    "        for event in pygame.event.get():\n",
    "            if event.type == pygame.QUIT:\n",
    "                pygame.quit()\n",
    "        \n",
    "    def quit(self):\n",
    "        pygame.quit()"
   ]
  },
  {
   "cell_type": "code",
   "execution_count": 47,
   "metadata": {},
   "outputs": [],
   "source": [
    "t_board = [np.zeros((10,10))]\n",
    "dis = GameDisplayer(300,10, t_board)\n"
   ]
  },
  {
   "cell_type": "code",
   "execution_count": 48,
   "metadata": {},
   "outputs": [],
   "source": [
    "dis.show_stuff()\n",
    "dis.quit()"
   ]
  }
 ],
 "metadata": {
  "kernelspec": {
   "display_name": "Python 3",
   "language": "python",
   "name": "python3"
  },
  "language_info": {
   "codemirror_mode": {
    "name": "ipython",
    "version": 3
   },
   "file_extension": ".py",
   "mimetype": "text/x-python",
   "name": "python",
   "nbconvert_exporter": "python",
   "pygments_lexer": "ipython3",
   "version": "3.7.6"
  }
 },
 "nbformat": 4,
 "nbformat_minor": 4
}
