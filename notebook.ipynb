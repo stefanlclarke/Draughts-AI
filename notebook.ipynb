{
 "cells": [
  {
   "cell_type": "code",
   "execution_count": 1,
   "metadata": {},
   "outputs": [
    {
     "name": "stdout",
     "output_type": "stream",
     "text": [
      "pygame 2.0.1 (SDL 2.0.14, Python 3.8.8)\n",
      "Hello from the pygame community. https://www.pygame.org/contribute.html\n"
     ]
    }
   ],
   "source": [
    "import numpy as np\n",
    "import gym\n",
    "import gym_draughts\n",
    "import pygame\n",
    "from display.draught_surf import DraughtVisualiser, find_square\n",
    "from memory.memory import GameMemory\n",
    "\n",
    "class PvPEngine:\n",
    "    def __init__(self):\n",
    "\n",
    "        \"\"\"\n",
    "        Class for human v human play with visualiser. Simply load the class\n",
    "        and run .run()\n",
    "        \"\"\"\n",
    "        self.env = gym.make('draughts-v0')\n",
    "        self.save_game = GameMemory(self.env)\n",
    "\n",
    "    def run(self):\n",
    "        pygame.init()\n",
    "        d_surf = pygame.display.set_mode((800,800))\n",
    "        vis = DraughtVisualiser(800,6)\n",
    "        vis.draw_board()\n",
    "        d_surf.blit(vis.my_surf, (0,0))\n",
    "        pygame.display.set_caption(\"Test!\")\n",
    "        vis.draw_from_grid(self.env.board.board)\n",
    "        pygame.display.update()\n",
    "        MOVETHISPIECE = 0\n",
    "        last_click = None\n",
    "\n",
    "        while True: # main game loop\n",
    "            for event in pygame.event.get():\n",
    "                if event.type == pygame.QUIT:\n",
    "                    pygame.quit()\n",
    "                if event.type == pygame.MOUSEBUTTONUP:\n",
    "\n",
    "                    pos = pygame.mouse.get_pos()\n",
    "                    square = find_square( (0,0), pos, 800/6)\n",
    "                    MOVETHISPIECE = square\n",
    "                    last_click = square\n",
    "\n",
    "                if event.type==pygame.KEYDOWN:\n",
    "                    key_name=pygame.key.name(event.key)\n",
    "                    if key_name=='w':\n",
    "                        self.save_game.step([MOVETHISPIECE[0], MOVETHISPIECE[1], 0])\n",
    "                        last_click = None\n",
    "                    if key_name=='e':\n",
    "                        self.save_game.step([MOVETHISPIECE[0], MOVETHISPIECE[1], 3])\n",
    "                        last_click = None\n",
    "                    if key_name=='d':\n",
    "                        self.save_game.step([MOVETHISPIECE[0], MOVETHISPIECE[1], 2])\n",
    "                        last_click = None\n",
    "                    if key_name=='s':\n",
    "                        self.save_game.step([MOVETHISPIECE[0], MOVETHISPIECE[1], 1])\n",
    "                        last_click = None\n",
    "\n",
    "            vis.draw_from_grid(self.env.board.board)\n",
    "            vis.draw_click_marker(last_click)\n",
    "            colour=pygame.Color(\"chocolate1\")\n",
    "            d_surf.blit(vis.my_surf, (0,0))\n",
    "            pygame.display.update()"
   ]
  },
  {
   "cell_type": "code",
   "execution_count": null,
   "metadata": {},
   "outputs": [
    {
     "name": "stdout",
     "output_type": "stream",
     "text": [
      "GAME OVER\n"
     ]
    }
   ],
   "source": [
    "game = PvPEngine()\n",
    "game.run()"
   ]
  },
  {
   "cell_type": "code",
   "execution_count": 22,
   "metadata": {},
   "outputs": [],
   "source": [
    "board = gym.make('draughts-v0')"
   ]
  },
  {
   "cell_type": "code",
   "execution_count": 4,
   "metadata": {},
   "outputs": [],
   "source": [
    "import pickle"
   ]
  },
  {
   "cell_type": "code",
   "execution_count": 9,
   "metadata": {},
   "outputs": [],
   "source": [
    "pickle.dump([12], open(\"memory/saved_games/2021-03-31210054.662480.pickle\", \"wb\"))"
   ]
  },
  {
   "cell_type": "code",
   "execution_count": 28,
   "metadata": {},
   "outputs": [
    {
     "data": {
      "text/plain": [
       "(array([[ 1.,  0.,  1.,  0.,  1.,  0.],\n",
       "        [ 0.,  0.,  0.,  1.,  0.,  1.],\n",
       "        [ 1.,  0.,  0.,  0.,  0.,  0.],\n",
       "        [ 0., -1.,  0.,  0.,  0.,  0.],\n",
       "        [ 0.,  0., -1.,  0., -1.,  0.],\n",
       "        [ 0., -1.,  0., -1.,  0., -1.]]),\n",
       " 0.3,\n",
       " False,\n",
       " False)"
      ]
     },
     "execution_count": 28,
     "metadata": {},
     "output_type": "execute_result"
    }
   ],
   "source": [
    "board.step([1,1,3])"
   ]
  },
  {
   "cell_type": "code",
   "execution_count": 3,
   "metadata": {},
   "outputs": [],
   "source": [
    "import pickle"
   ]
  },
  {
   "cell_type": "code",
   "execution_count": 4,
   "metadata": {},
   "outputs": [],
   "source": [
    "file = open(\"memory/saved_games/2021-03-31211321.788693.pickle\",'rb')\n",
    "object_file = pickle.load(file)"
   ]
  },
  {
   "cell_type": "code",
   "execution_count": null,
   "metadata": {},
   "outputs": [],
   "source": [
    "C:\\Users\\Stefan\\github\\Draughts-AI\\memory\\saved_games\\2021-03-31211321.788693.pickle"
   ]
  },
  {
   "cell_type": "code",
   "execution_count": 5,
   "metadata": {},
   "outputs": [
    {
     "data": {
      "text/plain": [
       "[array([[ 0.,  0.,  0.,  0.,  0.,  0.],\n",
       "        [ 0.,  0.,  0.,  0.,  0.,  0.],\n",
       "        [ 0.,  0., -2.,  0.,  0.,  0.],\n",
       "        [ 0.,  0.,  0.,  0.,  0.,  0.],\n",
       "        [-1.,  0.,  0.,  0.,  0.,  0.],\n",
       "        [ 0.,  0.,  0., -1.,  0.,  0.]]),\n",
       " None,\n",
       " None,\n",
       " None,\n",
       " None,\n",
       " None,\n",
       " None,\n",
       " None,\n",
       " None,\n",
       " None,\n",
       " None,\n",
       " None,\n",
       " None,\n",
       " None,\n",
       " None,\n",
       " None,\n",
       " None,\n",
       " None,\n",
       " None,\n",
       " None,\n",
       " None,\n",
       " None,\n",
       " None,\n",
       " None,\n",
       " None,\n",
       " None,\n",
       " None,\n",
       " None,\n",
       " None,\n",
       " None,\n",
       " None,\n",
       " None,\n",
       " None,\n",
       " None,\n",
       " None,\n",
       " None]"
      ]
     },
     "execution_count": 5,
     "metadata": {},
     "output_type": "execute_result"
    }
   ],
   "source": [
    "object_file"
   ]
  },
  {
   "cell_type": "code",
   "execution_count": null,
   "metadata": {},
   "outputs": [],
   "source": []
  }
 ],
 "metadata": {
  "kernelspec": {
   "display_name": "Python 3",
   "language": "python",
   "name": "python3"
  },
  "language_info": {
   "codemirror_mode": {
    "name": "ipython",
    "version": 3
   },
   "file_extension": ".py",
   "mimetype": "text/x-python",
   "name": "python",
   "nbconvert_exporter": "python",
   "pygments_lexer": "ipython3",
   "version": "3.8.8"
  }
 },
 "nbformat": 4,
 "nbformat_minor": 2
}
