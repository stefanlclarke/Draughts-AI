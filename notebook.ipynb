{
 "cells": [
  {
   "cell_type": "code",
   "execution_count": 1,
   "metadata": {},
   "outputs": [
    {
     "name": "stdout",
     "output_type": "stream",
     "text": [
      "pygame 2.0.1 (SDL 2.0.14, Python 3.8.8)\n",
      "Hello from the pygame community. https://www.pygame.org/contribute.html\n"
     ]
    }
   ],
   "source": [
    "import numpy as np\n",
    "import gym\n",
    "import gym_draughts\n",
    "import pygame\n",
    "from draught_surf import DraughtVisualiser, find_square"
   ]
  },
  {
   "cell_type": "code",
   "execution_count": 2,
   "metadata": {},
   "outputs": [],
   "source": [
    "import numpy as np\n",
    "import gym\n",
    "import gym_draughts\n",
    "import pygame\n",
    "from draught_surf import DraughtVisualiser, find_square\n",
    "\n",
    "class PvPEngine:\n",
    "    def __init__(self):\n",
    "\n",
    "        \"\"\"\n",
    "        Class for human v human play with visualiser. Simply load the class\n",
    "        and run .run()\n",
    "        \"\"\"\n",
    "        self.env = gym.make('draughts-v0')\n",
    "\n",
    "    def run(self):\n",
    "        pygame.init()\n",
    "        d_surf = pygame.display.set_mode((800,800))\n",
    "        vis = DraughtVisualiser(800,6)\n",
    "        vis.draw_board()\n",
    "        d_surf.blit(vis.my_surf, (0,0))\n",
    "        pygame.display.set_caption(\"Test!\")\n",
    "        vis.draw_from_grid(self.env.board.board)\n",
    "        pygame.display.update()\n",
    "        MOVETHISPIECE = 0\n",
    "        last_click = None\n",
    "\n",
    "        while True: # main game loop\n",
    "            for event in pygame.event.get():\n",
    "                if event.type == pygame.QUIT:\n",
    "                    pygame.quit()\n",
    "                if event.type == pygame.MOUSEBUTTONUP:\n",
    "\n",
    "                    pos = pygame.mouse.get_pos()\n",
    "                    square = find_square( (0,0), pos, 800/6)\n",
    "                    MOVETHISPIECE = square\n",
    "                    last_click = square\n",
    "\n",
    "                if event.type==pygame.KEYDOWN:\n",
    "                    key_name=pygame.key.name(event.key)\n",
    "                    if key_name=='w':\n",
    "                        self.env.step([MOVETHISPIECE[0], MOVETHISPIECE[1], 0])\n",
    "                        last_click = None\n",
    "                    if key_name=='e':\n",
    "                        self.env.step([MOVETHISPIECE[0], MOVETHISPIECE[1], 3])\n",
    "                        last_click = None\n",
    "                    if key_name=='d':\n",
    "                        self.env.step([MOVETHISPIECE[0], MOVETHISPIECE[1], 2])\n",
    "                        last_click = None\n",
    "                    if key_name=='s':\n",
    "                        self.env.step([MOVETHISPIECE[0], MOVETHISPIECE[1], 1])\n",
    "                        last_click = None\n",
    "\n",
    "            vis.draw_from_grid(self.env.board.board)\n",
    "            vis.draw_click_marker(last_click)\n",
    "            colour=pygame.Color(\"chocolate1\")\n",
    "            d_surf.blit(vis.my_surf, (0,0))\n",
    "            pygame.display.update()"
   ]
  },
  {
   "cell_type": "code",
   "execution_count": 3,
   "metadata": {},
   "outputs": [
    {
     "name": "stdout",
     "output_type": "stream",
     "text": [
      "SQUARE: 1 5\n",
      "move inputs (array([[ 1.,  0.,  1.,  0.,  1.,  0.],\n",
      "       [ 0.,  1.,  0.,  1.,  0.,  1.],\n",
      "       [ 0.,  0.,  0.,  0.,  0.,  0.],\n",
      "       [ 0.,  0.,  0.,  0.,  0.,  0.],\n",
      "       [-1.,  0., -1.,  0., -1.,  0.],\n",
      "       [ 0., -1.,  0., -1.,  0., -1.]]), array([1, 5]), 3, -1)\n",
      "SQUARE: 4 4\n",
      "move inputs (array([[ 1.,  0.,  1.,  0.,  1.,  0.],\n",
      "       [ 0.,  1.,  0.,  1.,  0.,  1.],\n",
      "       [ 0.,  0.,  0.,  0.,  0.,  0.],\n",
      "       [ 0.,  0.,  0.,  0.,  0.,  0.],\n",
      "       [-1.,  0., -1.,  0., -1.,  0.],\n",
      "       [ 0., -1.,  0., -1.,  0., -1.]]), array([4, 4]), 0, -1)\n",
      "SQUARE: 1 5\n",
      "move inputs (array([[ 1.,  0.,  1.,  0.,  1.,  0.],\n",
      "       [ 0.,  1.,  0.,  1.,  0.,  1.],\n",
      "       [ 0.,  0.,  0.,  0.,  0.,  0.],\n",
      "       [ 0.,  0.,  0., -1.,  0.,  0.],\n",
      "       [-1.,  0., -1.,  0.,  0.,  0.],\n",
      "       [ 0., -1.,  0., -1.,  0., -1.]]), array([1, 5]), 3, 1)\n",
      "SQUARE: 3 3\n",
      "move inputs (array([[ 1.,  0.,  1.,  0.,  1.,  0.],\n",
      "       [ 0.,  1.,  0.,  1.,  0.,  0.],\n",
      "       [ 0.,  0.,  0.,  0.,  1.,  0.],\n",
      "       [ 0.,  0.,  0., -3.,  0.,  0.],\n",
      "       [-1.,  0., -1.,  0.,  0.,  0.],\n",
      "       [ 0., -1.,  0., -1.,  0., -1.]]), array([3, 3]), 1, -1)\n",
      "SQUARE: 1 3\n",
      "move inputs (array([[ 1.,  0.,  1.,  0.,  1.,  0.],\n",
      "       [ 0.,  1.,  0.,  1.,  0., -1.],\n",
      "       [ 0.,  0.,  0.,  0.,  0.,  0.],\n",
      "       [ 0.,  0.,  0.,  0.,  0.,  0.],\n",
      "       [-1.,  0., -1.,  0.,  0.,  0.],\n",
      "       [ 0., -1.,  0., -1.,  0., -1.]]), array([1, 3]), 3, 1)\n",
      "SQUARE: 0 4\n",
      "move inputs (array([[ 1.,  0.,  1.,  0.,  1.,  0.],\n",
      "       [ 0.,  1.,  0.,  0.,  0., -1.],\n",
      "       [ 0.,  0.,  1.,  0.,  0.,  0.],\n",
      "       [ 0.,  0.,  0.,  0.,  0.,  0.],\n",
      "       [-1.,  0., -1.,  0.,  0.,  0.],\n",
      "       [ 0., -1.,  0., -1.,  0., -1.]]), array([0, 4]), 0, -1)\n",
      "SQUARE: 5 5\n",
      "move inputs (array([[ 1.,  0.,  1.,  0.,  1.,  0.],\n",
      "       [ 0.,  1.,  0.,  0.,  0., -1.],\n",
      "       [ 0.,  0.,  1.,  0.,  0.,  0.],\n",
      "       [ 0.,  0.,  0.,  0.,  0.,  0.],\n",
      "       [-1.,  0., -1.,  0.,  0.,  0.],\n",
      "       [ 0., -1.,  0., -1.,  0., -1.]]), array([5, 5]), 0, -1)\n",
      "SQUARE: 0 4\n",
      "move inputs (array([[ 1.,  0.,  1.,  0.,  1.,  0.],\n",
      "       [ 0.,  1.,  0.,  0.,  0., -1.],\n",
      "       [ 0.,  0.,  1.,  0.,  0.,  0.],\n",
      "       [ 0.,  0.,  0.,  0.,  0.,  0.],\n",
      "       [-1.,  0., -1.,  0., -1.,  0.],\n",
      "       [ 0., -1.,  0., -1.,  0.,  0.]]), array([0, 4]), 3, 1)\n",
      "SQUARE: 1 5\n",
      "move inputs (array([[ 1.,  0.,  1.,  0.,  0.,  0.],\n",
      "       [ 0.,  1.,  0.,  1.,  0., -1.],\n",
      "       [ 0.,  0.,  1.,  0.,  0.,  0.],\n",
      "       [ 0.,  0.,  0.,  0.,  0.,  0.],\n",
      "       [-1.,  0., -1.,  0., -1.,  0.],\n",
      "       [ 0., -1.,  0., -1.,  0.,  0.]]), array([1, 5]), 0, -1)\n",
      "SQUARE: 1 3\n",
      "move inputs (array([[ 1.,  0.,  1.,  0., -2.,  0.],\n",
      "       [ 0.,  1.,  0.,  1.,  0.,  0.],\n",
      "       [ 0.,  0.,  1.,  0.,  0.,  0.],\n",
      "       [ 0.,  0.,  0.,  0.,  0.,  0.],\n",
      "       [-1.,  0., -1.,  0., -1.,  0.],\n",
      "       [ 0., -1.,  0., -1.,  0.,  0.]]), array([1, 3]), 2, 1)\n",
      "SQUARE: 4 4\n",
      "move inputs (array([[ 1.,  0.,  1.,  0., -2.,  0.],\n",
      "       [ 0.,  1.,  0.,  0.,  0.,  0.],\n",
      "       [ 0.,  0.,  1.,  0.,  1.,  0.],\n",
      "       [ 0.,  0.,  0.,  0.,  0.,  0.],\n",
      "       [-1.,  0., -1.,  0., -1.,  0.],\n",
      "       [ 0., -1.,  0., -1.,  0.,  0.]]), array([4, 4]), 0, -1)\n",
      "move inputs (array([[ 1.,  0.,  1.,  0., -2.,  0.],\n",
      "       [ 0.,  1.,  0.,  0.,  0.,  0.],\n",
      "       [ 0.,  0.,  3.,  0.,  1.,  0.],\n",
      "       [ 0.,  0.,  0., -1.,  0.,  0.],\n",
      "       [-1.,  0., -1.,  0.,  0.,  0.],\n",
      "       [ 0., -1.,  0., -1.,  0.,  0.]]), array([4, 4]), 1, 1)\n",
      "SQUARE: 2 2\n",
      "move inputs (array([[ 1.,  0.,  1.,  0., -2.,  0.],\n",
      "       [ 0.,  1.,  0.,  0.,  0.,  0.],\n",
      "       [ 0.,  0.,  3.,  0.,  1.,  0.],\n",
      "       [ 0.,  0.,  0., -1.,  0.,  0.],\n",
      "       [-1.,  0., -1.,  0.,  0.,  0.],\n",
      "       [ 0., -1.,  0., -1.,  0.,  0.]]), array([2, 2]), 2, 1)\n",
      "SQUARE: 5 3\n",
      "move inputs (array([[ 1.,  0.,  1.,  0., -2.,  0.],\n",
      "       [ 0.,  1.,  0.,  0.,  0.,  0.],\n",
      "       [ 0.,  0.,  0.,  0.,  1.,  0.],\n",
      "       [ 0.,  0.,  0.,  0.,  0.,  0.],\n",
      "       [-1.,  0., -1.,  0.,  1.,  0.],\n",
      "       [ 0., -1.,  0., -3.,  0.,  0.]]), array([5, 3]), 1, -1)\n",
      "SQUARE: 3 5\n",
      "move inputs (array([[ 1.,  0.,  1.,  0., -2.,  0.],\n",
      "       [ 0.,  1.,  0.,  0.,  0.,  0.],\n",
      "       [ 0.,  0.,  0.,  0.,  1.,  0.],\n",
      "       [ 0.,  0.,  0.,  0.,  0., -3.],\n",
      "       [-1.,  0., -1.,  0.,  0.,  0.],\n",
      "       [ 0., -1.,  0.,  0.,  0.,  0.]]), array([3, 5]), 0, -1)\n",
      "move inputs (array([[ 1.,  0.,  3.,  0., -2.,  0.],\n",
      "       [ 0.,  1.,  0., -1.,  0.,  0.],\n",
      "       [ 0.,  0.,  0.,  0.,  0.,  0.],\n",
      "       [ 0.,  0.,  0.,  0.,  0.,  0.],\n",
      "       [-1.,  0., -1.,  0.,  0.,  0.],\n",
      "       [ 0., -1.,  0.,  0.,  0.,  0.]]), array([3, 5]), 1, 1)\n",
      "SQUARE: 0 2\n",
      "move inputs (array([[ 1.,  0.,  3.,  0., -2.,  0.],\n",
      "       [ 0.,  1.,  0., -1.,  0.,  0.],\n",
      "       [ 0.,  0.,  0.,  0.,  0.,  0.],\n",
      "       [ 0.,  0.,  0.,  0.,  0.,  0.],\n",
      "       [-1.,  0., -1.,  0.,  0.,  0.],\n",
      "       [ 0., -1.,  0.,  0.,  0.,  0.]]), array([0, 2]), 2, 1)\n",
      "SQUARE: 4 2\n",
      "move inputs (array([[ 1.,  0.,  0.,  0., -2.,  0.],\n",
      "       [ 0.,  1.,  0.,  0.,  0.,  0.],\n",
      "       [ 0.,  0.,  0.,  0.,  1.,  0.],\n",
      "       [ 0.,  0.,  0.,  0.,  0.,  0.],\n",
      "       [-1.,  0., -1.,  0.,  0.,  0.],\n",
      "       [ 0., -1.,  0.,  0.,  0.,  0.]]), array([4, 2]), 0, -1)\n",
      "SQUARE: 2 4\n",
      "move inputs (array([[ 1.,  0.,  0.,  0., -2.,  0.],\n",
      "       [ 0.,  1.,  0.,  0.,  0.,  0.],\n",
      "       [ 0.,  0.,  0.,  0.,  1.,  0.],\n",
      "       [ 0., -1.,  0.,  0.,  0.,  0.],\n",
      "       [-1.,  0.,  0.,  0.,  0.,  0.],\n",
      "       [ 0., -1.,  0.,  0.,  0.,  0.]]), array([2, 4]), 2, 1)\n",
      "move inputs (array([[ 1.,  0.,  0.,  0., -2.,  0.],\n",
      "       [ 0.,  1.,  0.,  0.,  0.,  0.],\n",
      "       [ 0.,  0.,  0.,  0.,  0.,  0.],\n",
      "       [ 0., -1.,  0.,  0.,  0.,  1.],\n",
      "       [-1.,  0.,  0.,  0.,  0.,  0.],\n",
      "       [ 0., -1.,  0.,  0.,  0.,  0.]]), array([2, 4]), 3, -1)\n",
      "SQUARE: 3 1\n",
      "move inputs (array([[ 1.,  0.,  0.,  0., -2.,  0.],\n",
      "       [ 0.,  1.,  0.,  0.,  0.,  0.],\n",
      "       [ 0.,  0.,  0.,  0.,  0.,  0.],\n",
      "       [ 0., -1.,  0.,  0.,  0.,  1.],\n",
      "       [-1.,  0.,  0.,  0.,  0.,  0.],\n",
      "       [ 0., -1.,  0.,  0.,  0.,  0.]]), array([3, 1]), 0, -1)\n",
      "SQUARE: 3 5\n",
      "move inputs (array([[ 1.,  0.,  0.,  0., -2.,  0.],\n",
      "       [ 0.,  1.,  0.,  0.,  0.,  0.],\n",
      "       [-1.,  0.,  0.,  0.,  0.,  0.],\n",
      "       [ 0.,  0.,  0.,  0.,  0.,  1.],\n",
      "       [-1.,  0.,  0.,  0.,  0.,  0.],\n",
      "       [ 0., -1.,  0.,  0.,  0.,  0.]]), array([3, 5]), 3, 1)\n",
      "SQUARE: 2 0\n",
      "move inputs (array([[ 1.,  0.,  0.,  0., -2.,  0.],\n",
      "       [ 0.,  1.,  0.,  0.,  0.,  0.],\n",
      "       [-3.,  0.,  0.,  0.,  0.,  0.],\n",
      "       [ 0.,  0.,  0.,  0.,  0.,  0.],\n",
      "       [-1.,  0.,  0.,  0.,  1.,  0.],\n",
      "       [ 0., -1.,  0.,  0.,  0.,  0.]]), array([2, 0]), 1, -1)\n",
      "SQUARE: 4 4\n",
      "move inputs (array([[ 1.,  0., -2.,  0., -2.,  0.],\n",
      "       [ 0.,  0.,  0.,  0.,  0.,  0.],\n",
      "       [ 0.,  0.,  0.,  0.,  0.,  0.],\n",
      "       [ 0.,  0.,  0.,  0.,  0.,  0.],\n",
      "       [-1.,  0.,  0.,  0.,  1.,  0.],\n",
      "       [ 0., -1.,  0.,  0.,  0.,  0.]]), array([4, 4]), 3, 1)\n"
     ]
    },
    {
     "ename": "error",
     "evalue": "display Surface quit",
     "output_type": "error",
     "traceback": [
      "\u001b[1;31m---------------------------------------------------------------------------\u001b[0m",
      "\u001b[1;31merror\u001b[0m                                     Traceback (most recent call last)",
      "\u001b[1;32m<ipython-input-3-633aad1dda06>\u001b[0m in \u001b[0;36m<module>\u001b[1;34m\u001b[0m\n\u001b[0;32m      1\u001b[0m \u001b[0mgame\u001b[0m \u001b[1;33m=\u001b[0m \u001b[0mPvPEngine\u001b[0m\u001b[1;33m(\u001b[0m\u001b[1;33m)\u001b[0m\u001b[1;33m\u001b[0m\u001b[1;33m\u001b[0m\u001b[0m\n\u001b[1;32m----> 2\u001b[1;33m \u001b[0mgame\u001b[0m\u001b[1;33m.\u001b[0m\u001b[0mrun\u001b[0m\u001b[1;33m(\u001b[0m\u001b[1;33m)\u001b[0m\u001b[1;33m\u001b[0m\u001b[1;33m\u001b[0m\u001b[0m\n\u001b[0m",
      "\u001b[1;32m<ipython-input-2-da4b750eee29>\u001b[0m in \u001b[0;36mrun\u001b[1;34m(self)\u001b[0m\n\u001b[0;32m     55\u001b[0m             \u001b[0mvis\u001b[0m\u001b[1;33m.\u001b[0m\u001b[0mdraw_click_marker\u001b[0m\u001b[1;33m(\u001b[0m\u001b[0mlast_click\u001b[0m\u001b[1;33m)\u001b[0m\u001b[1;33m\u001b[0m\u001b[1;33m\u001b[0m\u001b[0m\n\u001b[0;32m     56\u001b[0m             \u001b[0mcolour\u001b[0m\u001b[1;33m=\u001b[0m\u001b[0mpygame\u001b[0m\u001b[1;33m.\u001b[0m\u001b[0mColor\u001b[0m\u001b[1;33m(\u001b[0m\u001b[1;34m\"chocolate1\"\u001b[0m\u001b[1;33m)\u001b[0m\u001b[1;33m\u001b[0m\u001b[1;33m\u001b[0m\u001b[0m\n\u001b[1;32m---> 57\u001b[1;33m             \u001b[0md_surf\u001b[0m\u001b[1;33m.\u001b[0m\u001b[0mblit\u001b[0m\u001b[1;33m(\u001b[0m\u001b[0mvis\u001b[0m\u001b[1;33m.\u001b[0m\u001b[0mmy_surf\u001b[0m\u001b[1;33m,\u001b[0m \u001b[1;33m(\u001b[0m\u001b[1;36m0\u001b[0m\u001b[1;33m,\u001b[0m\u001b[1;36m0\u001b[0m\u001b[1;33m)\u001b[0m\u001b[1;33m)\u001b[0m\u001b[1;33m\u001b[0m\u001b[1;33m\u001b[0m\u001b[0m\n\u001b[0m\u001b[0;32m     58\u001b[0m             \u001b[0mpygame\u001b[0m\u001b[1;33m.\u001b[0m\u001b[0mdisplay\u001b[0m\u001b[1;33m.\u001b[0m\u001b[0mupdate\u001b[0m\u001b[1;33m(\u001b[0m\u001b[1;33m)\u001b[0m\u001b[1;33m\u001b[0m\u001b[1;33m\u001b[0m\u001b[0m\n",
      "\u001b[1;31merror\u001b[0m: display Surface quit"
     ]
    }
   ],
   "source": [
    "game = PvPEngine()\n",
    "game.run()"
   ]
  },
  {
   "cell_type": "code",
   "execution_count": 22,
   "metadata": {},
   "outputs": [],
   "source": [
    "board = gym.make('draughts-v0')"
   ]
  },
  {
   "cell_type": "code",
   "execution_count": 23,
   "metadata": {},
   "outputs": [
    {
     "name": "stdout",
     "output_type": "stream",
     "text": [
      "[[ 1.  0.  1.  0.  1.  0.]\n",
      " [ 0.  1.  0.  1.  0.  1.]\n",
      " [ 0.  0.  0.  0.  0.  0.]\n",
      " [ 0.  0.  0.  0.  0.  0.]\n",
      " [-1.  0. -1.  0. -1.  0.]\n",
      " [ 0. -1.  0. -1.  0. -1.]]\n"
     ]
    }
   ],
   "source": [
    "board.render()"
   ]
  },
  {
   "cell_type": "code",
   "execution_count": 26,
   "metadata": {},
   "outputs": [
    {
     "data": {
      "text/plain": [
       "(array([[ 1.,  0.,  1.,  0.,  1.,  0.],\n",
       "        [ 0.,  1.,  0.,  1.,  0.,  1.],\n",
       "        [ 0.,  0.,  0.,  0.,  0.,  0.],\n",
       "        [ 0., -1.,  0.,  0.,  0.,  0.],\n",
       "        [ 0.,  0., -1.,  0., -1.,  0.],\n",
       "        [ 0., -1.,  0., -1.,  0., -1.]]),\n",
       " 0.3,\n",
       " False,\n",
       " False)"
      ]
     },
     "execution_count": 26,
     "metadata": {},
     "output_type": "execute_result"
    }
   ],
   "source": [
    "board.step([4,0,1])"
   ]
  },
  {
   "cell_type": "code",
   "execution_count": 28,
   "metadata": {},
   "outputs": [
    {
     "data": {
      "text/plain": [
       "(array([[ 1.,  0.,  1.,  0.,  1.,  0.],\n",
       "        [ 0.,  0.,  0.,  1.,  0.,  1.],\n",
       "        [ 1.,  0.,  0.,  0.,  0.,  0.],\n",
       "        [ 0., -1.,  0.,  0.,  0.,  0.],\n",
       "        [ 0.,  0., -1.,  0., -1.,  0.],\n",
       "        [ 0., -1.,  0., -1.,  0., -1.]]),\n",
       " 0.3,\n",
       " False,\n",
       " False)"
      ]
     },
     "execution_count": 28,
     "metadata": {},
     "output_type": "execute_result"
    }
   ],
   "source": [
    "board.step([1,1,3])"
   ]
  },
  {
   "cell_type": "code",
   "execution_count": null,
   "metadata": {},
   "outputs": [],
   "source": []
  }
 ],
 "metadata": {
  "kernelspec": {
   "display_name": "Python 3",
   "language": "python",
   "name": "python3"
  },
  "language_info": {
   "codemirror_mode": {
    "name": "ipython",
    "version": 3
   },
   "file_extension": ".py",
   "mimetype": "text/x-python",
   "name": "python",
   "nbconvert_exporter": "python",
   "pygments_lexer": "ipython3",
   "version": "3.8.8"
  }
 },
 "nbformat": 4,
 "nbformat_minor": 2
}
