{
 "cells": [
  {
   "cell_type": "code",
   "execution_count": 40,
   "metadata": {},
   "outputs": [],
   "source": [
    "import numpy as np\n",
    "import gym\n",
    "import gym_draughts\n",
    "import pygame\n",
    "from draught_surf import DraughtVisualiser, find_square"
   ]
  },
  {
   "cell_type": "code",
   "execution_count": 43,
   "metadata": {},
   "outputs": [],
   "source": [
    "class PvPEngine:\n",
    "    def __init__(self):\n",
    "        self.env = gym.make('draughts-v0')\n",
    "        \n",
    "    def run(self):\n",
    "        pygame.init()\n",
    "        d_surf = pygame.display.set_mode((800,800))\n",
    "        vis = DraughtVisualiser(800,6)\n",
    "        vis.draw_board()\n",
    "        d_surf.blit(vis.my_surf, (0,0))\n",
    "        pygame.display.set_caption(\"Test!\")\n",
    "        vis.draw_from_grid(self.env.board.board)\n",
    "        pygame.display.update()\n",
    "        MOVETHISPIECE=0\n",
    "        \n",
    "        while True: # main game loop\n",
    "            for event in pygame.event.get():\n",
    "                if event.type == pygame.QUIT:\n",
    "                    pygame.quit()\n",
    "                if event.type == pygame.MOUSEBUTTONUP:\n",
    "\n",
    "                    pos = pygame.mouse.get_pos()\n",
    "                    square = find_square( (0,0), pos, 800/6)\n",
    "                    MOVETHISPIECE=square\n",
    "                if event.type==pygame.KEYDOWN:\n",
    "                    key_name=pygame.key.name(event.key)\n",
    "                    if key_name=='w':\n",
    "                        self.env.step([MOVETHISPIECE[0], MOVETHISPIECE[1], 0])\n",
    "                    if key_name=='a':\n",
    "                        self.env.step([MOVETHISPIECE[0], MOVETHISPIECE[1], 1])\n",
    "                    if key_name=='s':\n",
    "                        self.env.step([MOVETHISPIECE[0], MOVETHISPIECE[1], 2])\n",
    "                    if key_name=='d':\n",
    "                        self.env.step([MOVETHISPIECE[0], MOVETHISPIECE[1], 3])\n",
    "\n",
    "            vis.draw_from_grid(self.env.board.board)\n",
    "            colour=pygame.Color(\"chocolate1\")\n",
    "            d_surf.blit(vis.my_surf, (0,0))\n",
    "            pygame.display.update()"
   ]
  },
  {
   "cell_type": "code",
   "execution_count": 44,
   "metadata": {},
   "outputs": [
    {
     "name": "stdout",
     "output_type": "stream",
     "text": [
      "SQUARE: 1 3\n",
      "SQUARE: 1 3\n",
      "SQUARE: 1 3\n",
      "SQUARE: 1 3\n",
      "SQUARE: 1 3\n",
      "SQUARE: 1 3\n",
      "SQUARE: 4 2\n",
      "SQUARE: 1 3\n",
      "SQUARE: 5 3\n",
      "SQUARE: 1 1\n",
      "SQUARE: 3 3\n",
      "SQUARE: 0 0\n",
      "SQUARE: 4 4\n",
      "SQUARE: 2 2\n",
      "SQUARE: 5 5\n",
      "SQUARE: 0 4\n",
      "SQUARE: 4 2\n",
      "SQUARE: 2 4\n",
      "SQUARE: 2 4\n",
      "SQUARE: 2 4\n",
      "SQUARE: 5 1\n",
      "SQUARE: 0 2\n",
      "SQUARE: 3 1\n",
      "SQUARE: 1 3\n",
      "SQUARE: 2 0\n",
      "SQUARE: 3 3\n",
      "SQUARE: 3 3\n",
      "SQUARE: 2 2\n",
      "SQUARE: 0 2\n",
      "SQUARE: 4 4\n",
      "SQUARE: 1 5\n",
      "SQUARE: 1 1\n",
      "SQUARE: 4 0\n",
      "SQUARE: 4 0\n",
      "SQUARE: 1 5\n",
      "SQUARE: 0 2\n",
      "SQUARE: 2 4\n",
      "SQUARE: 3 3\n",
      "SQUARE: 1 3\n",
      "SQUARE: 3 3\n",
      "SQUARE: 2 2\n",
      "SQUARE: 4 2\n",
      "SQUARE: 3 1\n",
      "SQUARE: 5 3\n",
      "SQUARE: 5 3\n",
      "SQUARE: 4 0\n",
      "SQUARE: 5 1\n",
      "SQUARE: 2 2\n",
      "SQUARE: 4 2\n",
      "SQUARE: 1 1\n",
      "SQUARE: 3 1\n",
      "SQUARE: 0 2\n",
      "SQUARE: 4 2\n",
      "SQUARE: 1 1\n",
      "SQUARE: 3 1\n",
      "SQUARE: 1 3\n"
     ]
    },
    {
     "ename": "error",
     "evalue": "display Surface quit",
     "output_type": "error",
     "traceback": [
      "\u001b[1;31m---------------------------------------------------------------------------\u001b[0m",
      "\u001b[1;31merror\u001b[0m                                     Traceback (most recent call last)",
      "\u001b[1;32m<ipython-input-44-633aad1dda06>\u001b[0m in \u001b[0;36m<module>\u001b[1;34m\u001b[0m\n\u001b[0;32m      1\u001b[0m \u001b[0mgame\u001b[0m \u001b[1;33m=\u001b[0m \u001b[0mPvPEngine\u001b[0m\u001b[1;33m(\u001b[0m\u001b[1;33m)\u001b[0m\u001b[1;33m\u001b[0m\u001b[1;33m\u001b[0m\u001b[0m\n\u001b[1;32m----> 2\u001b[1;33m \u001b[0mgame\u001b[0m\u001b[1;33m.\u001b[0m\u001b[0mrun\u001b[0m\u001b[1;33m(\u001b[0m\u001b[1;33m)\u001b[0m\u001b[1;33m\u001b[0m\u001b[1;33m\u001b[0m\u001b[0m\n\u001b[0m",
      "\u001b[1;32m<ipython-input-43-f8afc2555cda>\u001b[0m in \u001b[0;36mrun\u001b[1;34m(self)\u001b[0m\n\u001b[0;32m     36\u001b[0m             \u001b[0mvis\u001b[0m\u001b[1;33m.\u001b[0m\u001b[0mdraw_from_grid\u001b[0m\u001b[1;33m(\u001b[0m\u001b[0mself\u001b[0m\u001b[1;33m.\u001b[0m\u001b[0menv\u001b[0m\u001b[1;33m.\u001b[0m\u001b[0mboard\u001b[0m\u001b[1;33m.\u001b[0m\u001b[0mboard\u001b[0m\u001b[1;33m)\u001b[0m\u001b[1;33m\u001b[0m\u001b[1;33m\u001b[0m\u001b[0m\n\u001b[0;32m     37\u001b[0m             \u001b[0mcolour\u001b[0m\u001b[1;33m=\u001b[0m\u001b[0mpygame\u001b[0m\u001b[1;33m.\u001b[0m\u001b[0mColor\u001b[0m\u001b[1;33m(\u001b[0m\u001b[1;34m\"chocolate1\"\u001b[0m\u001b[1;33m)\u001b[0m\u001b[1;33m\u001b[0m\u001b[1;33m\u001b[0m\u001b[0m\n\u001b[1;32m---> 38\u001b[1;33m             \u001b[0md_surf\u001b[0m\u001b[1;33m.\u001b[0m\u001b[0mblit\u001b[0m\u001b[1;33m(\u001b[0m\u001b[0mvis\u001b[0m\u001b[1;33m.\u001b[0m\u001b[0mmy_surf\u001b[0m\u001b[1;33m,\u001b[0m \u001b[1;33m(\u001b[0m\u001b[1;36m0\u001b[0m\u001b[1;33m,\u001b[0m\u001b[1;36m0\u001b[0m\u001b[1;33m)\u001b[0m\u001b[1;33m)\u001b[0m\u001b[1;33m\u001b[0m\u001b[1;33m\u001b[0m\u001b[0m\n\u001b[0m\u001b[0;32m     39\u001b[0m             \u001b[0mpygame\u001b[0m\u001b[1;33m.\u001b[0m\u001b[0mdisplay\u001b[0m\u001b[1;33m.\u001b[0m\u001b[0mupdate\u001b[0m\u001b[1;33m(\u001b[0m\u001b[1;33m)\u001b[0m\u001b[1;33m\u001b[0m\u001b[1;33m\u001b[0m\u001b[0m\n",
      "\u001b[1;31merror\u001b[0m: display Surface quit"
     ]
    }
   ],
   "source": [
    "game = PvPEngine()\n",
    "game.run()"
   ]
  },
  {
   "cell_type": "code",
   "execution_count": 22,
   "metadata": {},
   "outputs": [],
   "source": [
    "board = gym.make('draughts-v0')"
   ]
  },
  {
   "cell_type": "code",
   "execution_count": 23,
   "metadata": {},
   "outputs": [
    {
     "name": "stdout",
     "output_type": "stream",
     "text": [
      "[[ 1.  0.  1.  0.  1.  0.]\n",
      " [ 0.  1.  0.  1.  0.  1.]\n",
      " [ 0.  0.  0.  0.  0.  0.]\n",
      " [ 0.  0.  0.  0.  0.  0.]\n",
      " [-1.  0. -1.  0. -1.  0.]\n",
      " [ 0. -1.  0. -1.  0. -1.]]\n"
     ]
    }
   ],
   "source": [
    "board.render()"
   ]
  },
  {
   "cell_type": "code",
   "execution_count": 26,
   "metadata": {},
   "outputs": [
    {
     "data": {
      "text/plain": [
       "(array([[ 1.,  0.,  1.,  0.,  1.,  0.],\n",
       "        [ 0.,  1.,  0.,  1.,  0.,  1.],\n",
       "        [ 0.,  0.,  0.,  0.,  0.,  0.],\n",
       "        [ 0., -1.,  0.,  0.,  0.,  0.],\n",
       "        [ 0.,  0., -1.,  0., -1.,  0.],\n",
       "        [ 0., -1.,  0., -1.,  0., -1.]]),\n",
       " 0.3,\n",
       " False,\n",
       " False)"
      ]
     },
     "execution_count": 26,
     "metadata": {},
     "output_type": "execute_result"
    }
   ],
   "source": [
    "board.step([4,0,1])"
   ]
  },
  {
   "cell_type": "code",
   "execution_count": 28,
   "metadata": {},
   "outputs": [
    {
     "data": {
      "text/plain": [
       "(array([[ 1.,  0.,  1.,  0.,  1.,  0.],\n",
       "        [ 0.,  0.,  0.,  1.,  0.,  1.],\n",
       "        [ 1.,  0.,  0.,  0.,  0.,  0.],\n",
       "        [ 0., -1.,  0.,  0.,  0.,  0.],\n",
       "        [ 0.,  0., -1.,  0., -1.,  0.],\n",
       "        [ 0., -1.,  0., -1.,  0., -1.]]),\n",
       " 0.3,\n",
       " False,\n",
       " False)"
      ]
     },
     "execution_count": 28,
     "metadata": {},
     "output_type": "execute_result"
    }
   ],
   "source": [
    "board.step([1,1,3])"
   ]
  },
  {
   "cell_type": "code",
   "execution_count": null,
   "metadata": {},
   "outputs": [],
   "source": []
  }
 ],
 "metadata": {
  "kernelspec": {
   "display_name": "Python 3",
   "language": "python",
   "name": "python3"
  },
  "language_info": {
   "codemirror_mode": {
    "name": "ipython",
    "version": 3
   },
   "file_extension": ".py",
   "mimetype": "text/x-python",
   "name": "python",
   "nbconvert_exporter": "python",
   "pygments_lexer": "ipython3",
   "version": "3.8.8"
  }
 },
 "nbformat": 4,
 "nbformat_minor": 2
}
