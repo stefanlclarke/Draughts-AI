{
 "cells": [
  {
   "cell_type": "code",
   "execution_count": 1,
   "metadata": {},
   "outputs": [
    {
     "name": "stdout",
     "output_type": "stream",
     "text": [
      "pygame 2.0.1 (SDL 2.0.14, Python 3.8.8)\n",
      "Hello from the pygame community. https://www.pygame.org/contribute.html\n"
     ]
    }
   ],
   "source": [
    "import numpy as np\n",
    "import gym\n",
    "import gym_draughts\n",
    "import pygame\n",
    "from display.draught_surf import DraughtVisualiser, find_square\n",
    "from memory.memory import GameMemory\n",
    "\n",
    "class GameEngine:\n",
    "    def __init__(self, yellow_player='human', pink_player='human'):\n",
    "\n",
    "        \"\"\"\n",
    "        Class for human/bot/whatever play with/without visualiser. Simply load the class\n",
    "        and run .run()\n",
    "        \"\"\"\n",
    "\n",
    "        self.env = gym.make('draughts-v0')\n",
    "        self.save_game = GameMemory(self.env)\n",
    "        self.human_yellow = False\n",
    "        self.human_pink = False\n",
    "        self.random_yellow = False\n",
    "        self.random_pink = False\n",
    "\n",
    "\n",
    "\n",
    "        if yellow_player == 'human':\n",
    "            self.human_yellow = True\n",
    "        if pink_player == 'human':\n",
    "            self.human_pink = True\n",
    "\n",
    "        if yellow_player == 'random':\n",
    "            self.random_yellow = True\n",
    "        if pink_player == 'random':\n",
    "            self.random_pink = True\n",
    "\n",
    "        self.yellow_player = yellow_player\n",
    "        self.pink_plyer = pink_player\n",
    "\n",
    "        self.moving_piece = 0\n",
    "        self.last_click = None\n",
    "        self.game_over = False\n",
    "\n",
    "    def get_human_interactions(self):\n",
    "        done = False\n",
    "        \n",
    "        for event in pygame.event.get():\n",
    "            if event.type == pygame.QUIT:\n",
    "                pygame.quit()\n",
    "                self.game_over = True\n",
    "            if event.type == pygame.MOUSEBUTTONUP:\n",
    "\n",
    "                pos = pygame.mouse.get_pos()\n",
    "                square = find_square( (0,0), pos, 800/6)\n",
    "                self.moving_piece = square\n",
    "                self.last_click = square\n",
    "\n",
    "            if event.type==pygame.KEYDOWN:\n",
    "                key_name=pygame.key.name(event.key)\n",
    "                if key_name=='w':\n",
    "                    new_board, reward, done, illegal = self.save_game.step([self.moving_piece[0], self.moving_piece[1], 0])\n",
    "                    self.last_click = None\n",
    "                if key_name=='e':\n",
    "                    new_board, reward, done, illegal = self.save_game.step([self.moving_piece[0], self.moving_piece[1], 3])\n",
    "                    self.last_click = None\n",
    "                if key_name=='d':\n",
    "                    new_board, reward, done, illegal = self.save_game.step([self.moving_piece[0], self.moving_piece[1], 2])\n",
    "                    self.last_click = None\n",
    "                if key_name=='s':\n",
    "                    new_board, reward, done, illegal = self.save_game.step([self.moving_piece[0], self.moving_piece[1], 1])\n",
    "                    self.last_click = None\n",
    "                    \n",
    "        return done\n",
    "\n",
    "    def run(self):\n",
    "\n",
    "        if self.human_pink or self.human_yellow:\n",
    "            pygame.init()\n",
    "            d_surf = pygame.display.set_mode((800,800))\n",
    "            vis = DraughtVisualiser(800,6)\n",
    "            vis.draw_board()\n",
    "            d_surf.blit(vis.my_surf, (0,0))\n",
    "            pygame.display.set_caption(\"Test!\")\n",
    "            vis.draw_from_grid(self.env.board.board)\n",
    "            pygame.display.update()\n",
    "\n",
    "        while not self.game_over: # main game loop\n",
    "            if self.env.board.player == -1:\n",
    "                if self.human_yellow:\n",
    "                    self.game_over = self.get_human_interactions()\n",
    "                elif self.random_yellow:\n",
    "                    new_board, reward, self.game_over, illegal = self.save_game.step(self.env.random_move())\n",
    "                else:\n",
    "                    move = self.yellow_player.move(self.env.get_state())\n",
    "                    new_board, reward, self.game_over, illegal = self.save_game.step(move)\n",
    "\n",
    "            elif self.env.board.player == 1:\n",
    "                if self.human_pink:\n",
    "                    self.get_human_interactions()\n",
    "                elif self.random_pink:\n",
    "                    new_board, reward, self.game_over, illegal = self.save_game.step(self.env.random_move())\n",
    "                else:\n",
    "                    move = self.pink_player.move(self.env.get_state())\n",
    "                    new_board, reward, self.game_over, illegal = self.save_game.step(move)\n",
    "\n",
    "            if self.human_pink or self.human_yellow:\n",
    "                if not self.game_over:\n",
    "                    vis.draw_from_grid(self.env.board.board)\n",
    "                    vis.draw_click_marker(self.last_click)\n",
    "                    colour=pygame.Color(\"chocolate1\")\n",
    "                    d_surf.blit(vis.my_surf, (0,0))\n",
    "                    pygame.display.update()"
   ]
  },
  {
   "cell_type": "code",
   "execution_count": 2,
   "metadata": {},
   "outputs": [
    {
     "ename": "NameError",
     "evalue": "name 'board_to_onehot' is not defined",
     "output_type": "error",
     "traceback": [
      "\u001b[1;31m---------------------------------------------------------------------------\u001b[0m",
      "\u001b[1;31mNameError\u001b[0m                                 Traceback (most recent call last)",
      "\u001b[1;32m<ipython-input-2-3ed8c0bacfc0>\u001b[0m in \u001b[0;36m<module>\u001b[1;34m\u001b[0m\n\u001b[1;32m----> 1\u001b[1;33m \u001b[0meng\u001b[0m \u001b[1;33m=\u001b[0m \u001b[0mGameEngine\u001b[0m\u001b[1;33m(\u001b[0m\u001b[0myellow_player\u001b[0m\u001b[1;33m=\u001b[0m\u001b[1;34m'random'\u001b[0m\u001b[1;33m,\u001b[0m \u001b[0mpink_player\u001b[0m\u001b[1;33m=\u001b[0m\u001b[1;34m'random'\u001b[0m\u001b[1;33m)\u001b[0m\u001b[1;33m\u001b[0m\u001b[1;33m\u001b[0m\u001b[0m\n\u001b[0m",
      "\u001b[1;32m<ipython-input-1-79c29e27bb29>\u001b[0m in \u001b[0;36m__init__\u001b[1;34m(self, yellow_player, pink_player)\u001b[0m\n\u001b[0;32m     15\u001b[0m \u001b[1;33m\u001b[0m\u001b[0m\n\u001b[0;32m     16\u001b[0m         \u001b[0mself\u001b[0m\u001b[1;33m.\u001b[0m\u001b[0menv\u001b[0m \u001b[1;33m=\u001b[0m \u001b[0mgym\u001b[0m\u001b[1;33m.\u001b[0m\u001b[0mmake\u001b[0m\u001b[1;33m(\u001b[0m\u001b[1;34m'draughts-v0'\u001b[0m\u001b[1;33m)\u001b[0m\u001b[1;33m\u001b[0m\u001b[1;33m\u001b[0m\u001b[0m\n\u001b[1;32m---> 17\u001b[1;33m         \u001b[0mself\u001b[0m\u001b[1;33m.\u001b[0m\u001b[0msave_game\u001b[0m \u001b[1;33m=\u001b[0m \u001b[0mGameMemory\u001b[0m\u001b[1;33m(\u001b[0m\u001b[0mself\u001b[0m\u001b[1;33m.\u001b[0m\u001b[0menv\u001b[0m\u001b[1;33m)\u001b[0m\u001b[1;33m\u001b[0m\u001b[1;33m\u001b[0m\u001b[0m\n\u001b[0m\u001b[0;32m     18\u001b[0m         \u001b[0mself\u001b[0m\u001b[1;33m.\u001b[0m\u001b[0mhuman_yellow\u001b[0m \u001b[1;33m=\u001b[0m \u001b[1;32mFalse\u001b[0m\u001b[1;33m\u001b[0m\u001b[1;33m\u001b[0m\u001b[0m\n\u001b[0;32m     19\u001b[0m         \u001b[0mself\u001b[0m\u001b[1;33m.\u001b[0m\u001b[0mhuman_pink\u001b[0m \u001b[1;33m=\u001b[0m \u001b[1;32mFalse\u001b[0m\u001b[1;33m\u001b[0m\u001b[1;33m\u001b[0m\u001b[0m\n",
      "\u001b[1;32m~\\github\\Draughts-AI\\memory\\memory.py\u001b[0m in \u001b[0;36m__init__\u001b[1;34m(self, game_env, save_as_onehot)\u001b[0m\n\u001b[0;32m     56\u001b[0m \u001b[1;33m\u001b[0m\u001b[0m\n\u001b[0;32m     57\u001b[0m         \u001b[1;32mif\u001b[0m \u001b[0mself\u001b[0m\u001b[1;33m.\u001b[0m\u001b[0msave_as_onehot\u001b[0m\u001b[1;33m:\u001b[0m\u001b[1;33m\u001b[0m\u001b[1;33m\u001b[0m\u001b[0m\n\u001b[1;32m---> 58\u001b[1;33m             \u001b[0mself\u001b[0m\u001b[1;33m.\u001b[0m\u001b[0mmemory\u001b[0m\u001b[1;33m.\u001b[0m\u001b[0mappend\u001b[0m\u001b[1;33m(\u001b[0m\u001b[0mboard_to_onehot\u001b[0m\u001b[1;33m(\u001b[0m\u001b[0mdeepcopy\u001b[0m\u001b[1;33m(\u001b[0m\u001b[0mself\u001b[0m\u001b[1;33m.\u001b[0m\u001b[0menv\u001b[0m\u001b[1;33m.\u001b[0m\u001b[0mget_state\u001b[0m\u001b[1;33m(\u001b[0m\u001b[1;33m)\u001b[0m\u001b[1;33m)\u001b[0m\u001b[1;33m)\u001b[0m\u001b[1;33m)\u001b[0m\u001b[1;33m\u001b[0m\u001b[1;33m\u001b[0m\u001b[0m\n\u001b[0m\u001b[0;32m     59\u001b[0m         \u001b[1;32melse\u001b[0m\u001b[1;33m:\u001b[0m\u001b[1;33m\u001b[0m\u001b[1;33m\u001b[0m\u001b[0m\n\u001b[0;32m     60\u001b[0m             \u001b[0mself\u001b[0m\u001b[1;33m.\u001b[0m\u001b[0mmemory\u001b[0m\u001b[1;33m.\u001b[0m\u001b[0mappend\u001b[0m\u001b[1;33m(\u001b[0m\u001b[0mdeepcopy\u001b[0m\u001b[1;33m(\u001b[0m\u001b[0mself\u001b[0m\u001b[1;33m.\u001b[0m\u001b[0menv\u001b[0m\u001b[1;33m.\u001b[0m\u001b[0mget_state\u001b[0m\u001b[1;33m(\u001b[0m\u001b[1;33m)\u001b[0m\u001b[1;33m)\u001b[0m\u001b[1;33m)\u001b[0m\u001b[1;33m\u001b[0m\u001b[1;33m\u001b[0m\u001b[0m\n",
      "\u001b[1;31mNameError\u001b[0m: name 'board_to_onehot' is not defined"
     ]
    }
   ],
   "source": [
    "eng = GameEngine(yellow_player='random', pink_player='random')"
   ]
  },
  {
   "cell_type": "code",
   "execution_count": 101,
   "metadata": {},
   "outputs": [
    {
     "name": "stdout",
     "output_type": "stream",
     "text": [
      "GAME OVER\n"
     ]
    }
   ],
   "source": [
    "eng.run()"
   ]
  },
  {
   "cell_type": "code",
   "execution_count": null,
   "metadata": {},
   "outputs": [],
   "source": []
  },
  {
   "cell_type": "code",
   "execution_count": null,
   "metadata": {},
   "outputs": [],
   "source": []
  }
 ],
 "metadata": {
  "kernelspec": {
   "display_name": "Python 3",
   "language": "python",
   "name": "python3"
  },
  "language_info": {
   "codemirror_mode": {
    "name": "ipython",
    "version": 3
   },
   "file_extension": ".py",
   "mimetype": "text/x-python",
   "name": "python",
   "nbconvert_exporter": "python",
   "pygments_lexer": "ipython3",
   "version": "3.8.8"
  }
 },
 "nbformat": 4,
 "nbformat_minor": 2
}
