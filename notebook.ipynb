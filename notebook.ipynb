{
 "cells": [
  {
   "cell_type": "code",
   "execution_count": 92,
   "metadata": {},
   "outputs": [],
   "source": [
    "import torch\n",
    "import torch.nn as nn\n",
    "\n",
    "class FeedForwardNet(torch.nn.Module):\n",
    "    \"\"\"\n",
    "    Generic feedforward neural net\n",
    "    \"\"\"\n",
    "    def __init__(self, board_dim, layers, role='actor'):\n",
    "        super(FeedForwardNet, self).__init__()\n",
    "\n",
    "        self.input_dim = board_dim * board_dim * 4\n",
    "        \n",
    "        if role == 'actor':\n",
    "            self.actor = True\n",
    "            self.output_dim = board_dim * board_dim * 2\n",
    "        else:\n",
    "            self.actor = False\n",
    "            self.output_dim = 1\n",
    "        \n",
    "        self.layer_sizes = layers \n",
    "        in_layer_out = [self.input_dim] + layers + [self.output_dim]\n",
    "        feedforward_dimensions = [(in_layer_out[i],in_layer_out[i+1]) for i in range(len(in_layer_out)-1)]\n",
    "        \n",
    "        self.hidden_layers = [nn.Linear(*dims) for dims in feedforward_dimensions]\n",
    "        self.relu = nn.ReLU()\n",
    "        \n",
    "        if self.actor:\n",
    "            self.softmax = nn.Softmax(dim=0)\n",
    "        \n",
    "        self.n_layers = len(self.hidden_layers)\n",
    "        \n",
    "    def forward(self, x):\n",
    "        curr_val = x\n",
    "        for i in range(self.n_layers - 1):\n",
    "            curr_val = self.relu(self.hidden_layers[i](curr_val))\n",
    "        \n",
    "        if self.actor:\n",
    "            curr_val = self.softmax(self.hidden_layers[-1](curr_val))\n",
    "        else:\n",
    "            curr_val = self.hidden_layers[-1](curr_val)\n",
    "        return curr_val\n",
    "    \n",
    "\n",
    "class A2C(torch.nn.Module):\n",
    "    def __init__(self, board_dim, hidden_actor, hidden_critic):\n",
    "        \"\"\"\n",
    "        A2C nets\n",
    "        \"\"\"\n",
    "        super(A2C, self).__init__()\n",
    "        self.actor = FeedForwardNet(board_dim, hidden_actor, role='actor')\n",
    "        self.critic = FeedForwardNet(board_dim, hidden_critic, role='critic')\n",
    "        \n",
    "    def forward(self, x):\n",
    "        return self.actor(x), self.critic(x)"
   ]
  },
  {
   "cell_type": "code",
   "execution_count": 93,
   "metadata": {},
   "outputs": [],
   "source": [
    "ac = A2C(8, [2,2], [2,2])"
   ]
  },
  {
   "cell_type": "code",
   "execution_count": 94,
   "metadata": {},
   "outputs": [
    {
     "data": {
      "text/plain": [
       "torch.Size([1])"
      ]
     },
     "execution_count": 94,
     "metadata": {},
     "output_type": "execute_result"
    }
   ],
   "source": [
    "ac.forward(torch.zeros(256))[1].shape"
   ]
  },
  {
   "cell_type": "code",
   "execution_count": null,
   "metadata": {},
   "outputs": [],
   "source": []
  },
  {
   "cell_type": "code",
   "execution_count": null,
   "metadata": {},
   "outputs": [],
   "source": []
  }
 ],
 "metadata": {
  "kernelspec": {
   "display_name": "Python 3",
   "language": "python",
   "name": "python3"
  },
  "language_info": {
   "codemirror_mode": {
    "name": "ipython",
    "version": 3
   },
   "file_extension": ".py",
   "mimetype": "text/x-python",
   "name": "python",
   "nbconvert_exporter": "python",
   "pygments_lexer": "ipython3",
   "version": "3.8.8"
  }
 },
 "nbformat": 4,
 "nbformat_minor": 2
}
