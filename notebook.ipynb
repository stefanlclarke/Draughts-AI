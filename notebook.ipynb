{
 "cells": [
  {
   "cell_type": "code",
   "execution_count": 40,
   "metadata": {},
   "outputs": [],
   "source": [
    "import numpy as np\n",
    "import gym\n",
    "import gym_draughts\n",
    "import pygame\n",
    "from draught_surf import DraughtVisualiser, find_square"
   ]
  },
  {
   "cell_type": "code",
   "execution_count": 43,
   "metadata": {},
   "outputs": [],
   "source": [
    "class PvPEngine:\n",
    "    def __init__(self):\n",
    "        self.env = gym.make('draughts-v0')\n",
    "        \n",
    "    def run(self):\n",
    "        pygame.init()\n",
    "        d_surf = pygame.display.set_mode((800,800))\n",
    "        vis = DraughtVisualiser(800,6)\n",
    "        vis.draw_board()\n",
    "        d_surf.blit(vis.my_surf, (0,0))\n",
    "        pygame.display.set_caption(\"Test!\")\n",
    "        vis.draw_from_grid(self.env.board.board)\n",
    "        pygame.display.update()\n",
    "        MOVETHISPIECE=0\n",
    "        \n",
    "        while True: # main game loop\n",
    "            for event in pygame.event.get():\n",
    "                if event.type == pygame.QUIT:\n",
    "                    pygame.quit()\n",
    "                if event.type == pygame.MOUSEBUTTONUP:\n",
    "\n",
    "                    pos = pygame.mouse.get_pos()\n",
    "                    square = find_square( (0,0), pos, 800/6)\n",
    "                    MOVETHISPIECE=square\n",
    "                if event.type==pygame.KEYDOWN:\n",
    "                    key_name=pygame.key.name(event.key)\n",
    "                    if key_name=='w':\n",
    "                        self.env.step([MOVETHISPIECE[0], MOVETHISPIECE[1], 0])\n",
    "                    if key_name=='a':\n",
    "                        self.env.step([MOVETHISPIECE[0], MOVETHISPIECE[1], 1])\n",
    "                    if key_name=='s':\n",
    "                        self.env.step([MOVETHISPIECE[0], MOVETHISPIECE[1], 2])\n",
    "                    if key_name=='d':\n",
    "                        self.env.step([MOVETHISPIECE[0], MOVETHISPIECE[1], 3])\n",
    "\n",
    "            vis.draw_from_grid(self.env.board.board)\n",
    "            colour=pygame.Color(\"chocolate1\")\n",
    "            d_surf.blit(vis.my_surf, (0,0))\n",
    "            pygame.display.update()\n"
   ]
  },
  {
   "cell_type": "code",
   "execution_count": null,
   "metadata": {},
   "outputs": [
    {
     "name": "stdout",
     "output_type": "stream",
     "text": [
      "SQUARE: 1 3\n",
      "SQUARE: 1 3\n",
      "SQUARE: 1 3\n",
      "SQUARE: 1 3\n",
      "SQUARE: 1 3\n",
      "SQUARE: 1 3\n",
      "SQUARE: 4 2\n",
      "SQUARE: 1 3\n",
      "SQUARE: 5 3\n",
      "SQUARE: 1 1\n",
      "SQUARE: 3 3\n",
      "SQUARE: 0 0\n",
      "SQUARE: 4 4\n",
      "SQUARE: 2 2\n",
      "SQUARE: 5 5\n",
      "SQUARE: 0 4\n",
      "SQUARE: 4 2\n",
      "SQUARE: 2 4\n",
      "SQUARE: 2 4\n",
      "SQUARE: 2 4\n",
      "SQUARE: 5 1\n",
      "SQUARE: 0 2\n"
     ]
    }
   ],
   "source": [
    "game = PvPEngine()\n",
    "game.run()"
   ]
  },
  {
   "cell_type": "code",
   "execution_count": 22,
   "metadata": {},
   "outputs": [],
   "source": [
    "board = gym.make('draughts-v0')"
   ]
  },
  {
   "cell_type": "code",
   "execution_count": 23,
   "metadata": {},
   "outputs": [
    {
     "name": "stdout",
     "output_type": "stream",
     "text": [
      "[[ 1.  0.  1.  0.  1.  0.]\n",
      " [ 0.  1.  0.  1.  0.  1.]\n",
      " [ 0.  0.  0.  0.  0.  0.]\n",
      " [ 0.  0.  0.  0.  0.  0.]\n",
      " [-1.  0. -1.  0. -1.  0.]\n",
      " [ 0. -1.  0. -1.  0. -1.]]\n"
     ]
    }
   ],
   "source": [
    "board.render()"
   ]
  },
  {
   "cell_type": "code",
   "execution_count": 26,
   "metadata": {},
   "outputs": [
    {
     "data": {
      "text/plain": [
       "(array([[ 1.,  0.,  1.,  0.,  1.,  0.],\n",
       "        [ 0.,  1.,  0.,  1.,  0.,  1.],\n",
       "        [ 0.,  0.,  0.,  0.,  0.,  0.],\n",
       "        [ 0., -1.,  0.,  0.,  0.,  0.],\n",
       "        [ 0.,  0., -1.,  0., -1.,  0.],\n",
       "        [ 0., -1.,  0., -1.,  0., -1.]]),\n",
       " 0.3,\n",
       " False,\n",
       " False)"
      ]
     },
     "execution_count": 26,
     "metadata": {},
     "output_type": "execute_result"
    }
   ],
   "source": [
    "board.step([4,0,1])"
   ]
  },
  {
   "cell_type": "code",
   "execution_count": 28,
   "metadata": {},
   "outputs": [
    {
     "data": {
      "text/plain": [
       "(array([[ 1.,  0.,  1.,  0.,  1.,  0.],\n",
       "        [ 0.,  0.,  0.,  1.,  0.,  1.],\n",
       "        [ 1.,  0.,  0.,  0.,  0.,  0.],\n",
       "        [ 0., -1.,  0.,  0.,  0.,  0.],\n",
       "        [ 0.,  0., -1.,  0., -1.,  0.],\n",
       "        [ 0., -1.,  0., -1.,  0., -1.]]),\n",
       " 0.3,\n",
       " False,\n",
       " False)"
      ]
     },
     "execution_count": 28,
     "metadata": {},
     "output_type": "execute_result"
    }
   ],
   "source": [
    "board.step([1,1,3])"
   ]
  },
  {
   "cell_type": "code",
   "execution_count": null,
   "metadata": {},
   "outputs": [],
   "source": []
  }
 ],
 "metadata": {
  "kernelspec": {
   "display_name": "Python 3",
   "language": "python",
   "name": "python3"
  },
  "language_info": {
   "codemirror_mode": {
    "name": "ipython",
    "version": 3
   },
   "file_extension": ".py",
   "mimetype": "text/x-python",
   "name": "python",
   "nbconvert_exporter": "python",
   "pygments_lexer": "ipython3",
   "version": "3.8.8"
  }
 },
 "nbformat": 4,
 "nbformat_minor": 2
}
