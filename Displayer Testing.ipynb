{
 "cells": [
  {
   "cell_type": "code",
   "execution_count": 14,
   "metadata": {},
   "outputs": [
    {
     "name": "stdout",
     "output_type": "stream",
     "text": [
      "The autoreload extension is already loaded. To reload it, use:\n",
      "  %reload_ext autoreload\n"
     ]
    }
   ],
   "source": [
    "import gym\n",
    "import gym_draughts\n",
    "import pygame\n",
    "import numpy as np\n",
    "%load_ext autoreload\n",
    "%autoreload 1\n"
   ]
  },
  {
   "cell_type": "code",
   "execution_count": 15,
   "metadata": {},
   "outputs": [
    {
     "data": {
      "text/plain": [
       "2"
      ]
     },
     "execution_count": 15,
     "metadata": {},
     "output_type": "execute_result"
    }
   ],
   "source": [
    "np.clip(3,1,2)"
   ]
  },
  {
   "cell_type": "code",
   "execution_count": 67,
   "metadata": {},
   "outputs": [],
   "source": [
    "import draught_surf as dSurf\n",
    "%aimport draught_surf "
   ]
  },
  {
   "cell_type": "code",
   "execution_count": 95,
   "metadata": {},
   "outputs": [],
   "source": [
    "\n",
    "\n",
    "\n",
    "class GameDisplayer():\n",
    "    def __init__(self,  screen_size,  game_to_disp):\n",
    "        self.board_size = len(game_to_disp[0])\n",
    "        self.screen_size = screen_size\n",
    "        self.game_to_disp = game_to_disp\n",
    "        \n",
    "        self.game_visualise = dSurf.DraughtVisualiser(screen_size , self.board_size)\n",
    "        self.game_visualise.draw_from_grid(game_to_disp[0])\n",
    "        \n",
    "        self.done = False\n",
    "        \n",
    "        self.current_frame = 0\n",
    "        self.max_frame = len(self.game_to_disp)\n",
    "        \n",
    "        self.info_surf = pygame.Surface((200,screen_size))\n",
    "\n",
    "        \n",
    "    def show_stuff(self):\n",
    "        pygame.init()\n",
    "        \n",
    "        self.main_surf = pygame.display.set_mode((self.screen_size + 200,self.screen_size))\n",
    "        \n",
    "        pygame.display.set_caption(\"Test!\")\n",
    "        pygame.display.update()\n",
    "        \n",
    "        self.font_render = pygame.font.SysFont(None, 24)\n",
    "        \n",
    "        img = self.font_render.render('hello', True, \"blue\")\n",
    "        \n",
    "        self.main_surf.blit(img, (20, 20))\n",
    "        \n",
    "        self.t = 0\n",
    "        \n",
    "        pygame.display.update()\n",
    "        \n",
    "    \n",
    "        \n",
    "        while not self.done:\n",
    "            self.run_through_events()\n",
    "            self.update_info()\n",
    "            self.update_grid()\n",
    "            pygame.display.update()\n",
    "        self.quit()\n",
    "        \n",
    "    def update_info(self):\n",
    "        self.info_surf.fill(pygame.Color(255, 255, 255))\n",
    "        info_text = self.font_render.render(f'Frame {self.current_frame + 1}/{self.max_frame}', True, \"black\")\n",
    "        self.info_surf.blit(info_text , (0,0))\n",
    "        self.main_surf.blit(self.info_surf, (self.screen_size ,0))\n",
    "        \n",
    "    def update_grid(self):\n",
    "        self.game_visualise.draw_from_grid(self.game_to_disp[self.current_frame])\n",
    "        self.main_surf.blit(self.game_visualise.my_surf, (0 ,0))\n",
    "        \n",
    "    def move_frame(self, delta):\n",
    "        self.current_frame = np.clip(self.current_frame + delta,0, self.max_frame - 1)\n",
    "        \n",
    "    def run_through_events(self):\n",
    "        for event in pygame.event.get():\n",
    "            if event.type == pygame.QUIT:\n",
    "                self.done = True\n",
    "            if event.type == pygame.KEYDOWN:\n",
    "                if event.mod & pygame.KMOD_SHIFT:\n",
    "                    mod_factor = 10\n",
    "                else:\n",
    "                    mod_factor = 1\n",
    "                if event.key == pygame.K_RIGHT:\n",
    "                    self.move_frame(1 * mod_factor)\n",
    "                if event.key == pygame.K_LEFT:\n",
    "                    self.move_frame(-1 * mod_factor)\n",
    "                \n",
    "        \n",
    "    def quit(self):\n",
    "        pygame.display.quit()\n",
    "        self.done = False"
   ]
  },
  {
   "cell_type": "code",
   "execution_count": 69,
   "metadata": {},
   "outputs": [
    {
     "data": {
      "text/plain": [
       "0"
      ]
     },
     "execution_count": 69,
     "metadata": {},
     "output_type": "execute_result"
    }
   ],
   "source": [
    "np.random.randint(-1,3)"
   ]
  },
  {
   "cell_type": "code",
   "execution_count": 97,
   "metadata": {},
   "outputs": [],
   "source": [
    "t_board = np.random.randint(-4,5,(10,10,10))\n",
    "t_board[0,4,:] = 2\n",
    "t_board[:,2,1] = 4\n",
    "t_board[3,:,:] = 3\n",
    "t_board[:,3,4] = np.array(range(10)) - 4\n",
    "dis = GameDisplayer(400, t_board)\n"
   ]
  },
  {
   "cell_type": "code",
   "execution_count": null,
   "metadata": {},
   "outputs": [],
   "source": [
    "dis.show_stuff()\n"
   ]
  },
  {
   "cell_type": "code",
   "execution_count": 93,
   "metadata": {},
   "outputs": [
    {
     "data": {
      "text/plain": [
       "1"
      ]
     },
     "execution_count": 93,
     "metadata": {},
     "output_type": "execute_result"
    }
   ],
   "source": [
    "pygame.KMOD_LSHIFT\n"
   ]
  },
  {
   "cell_type": "code",
   "execution_count": 91,
   "metadata": {},
   "outputs": [
    {
     "data": {
      "text/plain": [
       "'0b11'"
      ]
     },
     "execution_count": 91,
     "metadata": {},
     "output_type": "execute_result"
    }
   ],
   "source": [
    "bin(3)"
   ]
  }
 ],
 "metadata": {
  "kernelspec": {
   "display_name": "Python 3",
   "language": "python",
   "name": "python3"
  },
  "language_info": {
   "codemirror_mode": {
    "name": "ipython",
    "version": 3
   },
   "file_extension": ".py",
   "mimetype": "text/x-python",
   "name": "python",
   "nbconvert_exporter": "python",
   "pygments_lexer": "ipython3",
   "version": "3.7.6"
  }
 },
 "nbformat": 4,
 "nbformat_minor": 4
}
